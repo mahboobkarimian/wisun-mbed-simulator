{
 "cells": [
  {
   "cell_type": "code",
   "execution_count": 7,
   "id": "b19c733b",
   "metadata": {},
   "outputs": [],
   "source": [
    "import mbedtls"
   ]
  },
  {
   "cell_type": "code",
   "execution_count": 8,
   "id": "7c067b50",
   "metadata": {},
   "outputs": [],
   "source": [
    "nname = \"Wi-SUN Network\" # net name"
   ]
  },
  {
   "cell_type": "code",
   "execution_count": 9,
   "id": "186f7ce7",
   "metadata": {},
   "outputs": [],
   "source": [
    "#gtk=\"BB0608572CE14D7BA2D155499CC8519B\" # hex string\n",
    "gtk=\"00000000000000000000000000000000\" # hex string"
   ]
  },
  {
   "cell_type": "code",
   "execution_count": 10,
   "id": "e46a90da",
   "metadata": {},
   "outputs": [],
   "source": [
    "bb_gtk=bytes.fromhex(gtk)\n",
    "bb_nname=nname.encode()\n",
    "sss=bytearray(bb_gtk)"
   ]
  },
  {
   "cell_type": "code",
   "execution_count": 11,
   "id": "a67d4858",
   "metadata": {},
   "outputs": [],
   "source": [
    "gak=mbedtls.hashlib.sha256(bb_nname+bb_gtk).hexdigest()\n",
    "gak?"
   ]
  },
  {
   "cell_type": "code",
   "execution_count": 12,
   "id": "bca16faa",
   "metadata": {},
   "outputs": [
    {
     "name": "stdout",
     "output_type": "stream",
     "text": [
      "261bacfe97e52ef13ae5d9af38c20ff3\n"
     ]
    }
   ],
   "source": [
    "print(gak[0:32]) # 128 bits"
   ]
  },
  {
   "cell_type": "code",
   "execution_count": null,
   "id": "f9436734",
   "metadata": {},
   "outputs": [],
   "source": []
  }
 ],
 "metadata": {
  "kernelspec": {
   "display_name": "Python 3",
   "language": "python",
   "name": "python3"
  },
  "language_info": {
   "codemirror_mode": {
    "name": "ipython",
    "version": 3
   },
   "file_extension": ".py",
   "mimetype": "text/x-python",
   "name": "python",
   "nbconvert_exporter": "python",
   "pygments_lexer": "ipython3",
   "version": "3.10.4"
  }
 },
 "nbformat": 4,
 "nbformat_minor": 5
}
